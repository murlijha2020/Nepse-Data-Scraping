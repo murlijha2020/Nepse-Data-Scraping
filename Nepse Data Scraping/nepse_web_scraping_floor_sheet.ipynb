{
 "cells": [
  {
   "cell_type": "code",
   "execution_count": null,
   "id": "dba06937",
   "metadata": {},
   "outputs": [],
   "source": [
    "from selenium import webdriver\n",
    "from datetime import datetime\n",
    "from bs4 import BeautifulSoup\n",
    "import pandas as pd\n",
    "from selenium.common.exceptions import NoSuchElementException\n",
    "from selenium.webdriver.chrome.options import Options\n",
    "import sys"
   ]
  },
  {
   "cell_type": "code",
   "execution_count": null,
   "id": "c819fbbe",
   "metadata": {},
   "outputs": [],
   "source": [
    "def search(driver, search_date):\n",
    "    \"\"\"\n",
    "    Date in mm/dd/yyyy\n",
    "    \"\"\"\n",
    "    driver.get(\"https://merolagani.com/Floorsheet.aspx\")\n",
    "    date_input = driver.find_element_by_xpath('/html/body/form/div[4]/div[3]/div/div/div[1]/div[4]/input')\n",
    "    search_btn = driver.find_element_by_xpath('/html/body/form/div[4]/div[3]/div/div/div[2]/a[1]')\n",
    "    date_input.send_keys(search_date)\n",
    "    search_btn.click()\n",
    "    if driver.find_elements_by_xpath(\"//*[contains(text(), 'Could not find floorsheet matching the search criteria')]\"):\n",
    "        print(\"No data found for the given search.\")\n",
    "        print(\"Aborting script ......\")\n",
    "        sys.exit()"
   ]
  },
  {
   "cell_type": "code",
   "execution_count": null,
   "id": "49ab4aa7",
   "metadata": {},
   "outputs": [],
   "source": [
    "def get_page_table(driver, table_class):\n",
    "    soup = BeautifulSoup(driver.page_source,'html')\n",
    "    table = soup.find(\"table\", {\"class\":table_class})\n",
    "    tab_data = [[cell.text.replace('\\r', '').replace('\\n', '') for cell in row.find_all([\"th\",\"td\"])]\n",
    "                        for row in table.find_all(\"tr\")]\n",
    "    df = pd.DataFrame(tab_data)\n",
    "    return df"
   ]
  },
  {
   "cell_type": "code",
   "execution_count": null,
   "id": "eb478b1e",
   "metadata": {},
   "outputs": [],
   "source": [
    "def scrape_data(driver, search_date):\n",
    "    start_time = datetime.now()\n",
    "    '''\n",
    "    # search(driver, search_date) # comment out this line\n",
    "   \n",
    "    # comment out this line for proper running of the code\n",
    "    loading same page through an error\n",
    "    '''\n",
    "    df = pd.DataFrame()\n",
    "    count = 0\n",
    "    while True:\n",
    "        page_table_df = get_page_table(driver, table_class=\"table table-bordered table-striped table-hover sortable\")\n",
    "        df = df.append(page_table_df, ignore_index = True)\n",
    "        count += 1\n",
    "        try:\n",
    "            next_btn = driver.find_element_by_link_text('Next')\n",
    "            driver.execute_script(\"arguments[0].click();\", next_btn)\n",
    "        except NoSuchElementException:\n",
    "            break\n",
    "    print(f\"Time taken to scrape: {datetime.now() - start_time}\")    \n",
    "    print(f'total count of pages = {count}')\n",
    "    return df"
   ]
  },
  {
   "cell_type": "code",
   "execution_count": null,
   "id": "64657a57",
   "metadata": {},
   "outputs": [],
   "source": [
    "def clean_df(df):\n",
    "    new_df = df.drop_duplicates(keep='first') # Dropping Duplicates\n",
    "    new_header = new_df.iloc[0] # grabing the first row for the header\n",
    "    new_df = new_df[1:] # taking the data lower than the header row\n",
    "    new_df.columns = new_header # setting the header row as the df header\n",
    "    new_df.drop([\"#\"], axis=1, inplace=True)\n",
    "    new_df[\"Rate\"] = new_df[\"Rate\"].apply(lambda x:float(x.replace(\",\", \"\"))) # Convert Rate to Float\n",
    "    new_df[\"Amount\"] = new_df[\"Amount\"].apply(lambda x:float(x.replace(\",\", \"\"))) # Convert Amount to Float\n",
    "    return new_df"
   ]
  },
  {
   "cell_type": "code",
   "execution_count": null,
   "id": "09823bcd",
   "metadata": {},
   "outputs": [],
   "source": [
    "options = Options()\n",
    "options.headless = True\n",
    "driver = webdriver.Chrome(executable_path='C:\\\\Users\\\\name\\\\AppData\\\\Local\\\\Programs\\\\Python\\\\Python39\\\\Scripts\\\\chromedriver.exe') # Start Browser"
   ]
  },
  {
   "cell_type": "code",
   "execution_count": null,
   "id": "1e9ff9e2",
   "metadata": {},
   "outputs": [],
   "source": [
    "date = input('enter a valid date [ Date in mm/dd/yyyy ] or press enter to provide current date: ')\n",
    "\n",
    "if date == '':\n",
    "    search_date = datetime.today().strftime('%m/%d/%Y') # Get today's date\n",
    "else:\n",
    "    search_date = date\n",
    "    \n",
    "search_date"
   ]
  },
  {
   "cell_type": "code",
   "execution_count": null,
   "id": "247457ae",
   "metadata": {
    "scrolled": true
   },
   "outputs": [],
   "source": [
    "search(driver, search_date) # Search the webpage"
   ]
  },
  {
   "cell_type": "code",
   "execution_count": null,
   "id": "8015f514",
   "metadata": {},
   "outputs": [],
   "source": [
    "df = scrape_data(driver, search_date) # Scraping"
   ]
  },
  {
   "cell_type": "code",
   "execution_count": null,
   "id": "91b0160a",
   "metadata": {},
   "outputs": [],
   "source": [
    "final_df = clean_df(df) # Cleaning"
   ]
  },
  {
   "cell_type": "code",
   "execution_count": null,
   "id": "546703a7",
   "metadata": {},
   "outputs": [],
   "source": [
    "final_df.head()"
   ]
  },
  {
   "cell_type": "code",
   "execution_count": null,
   "id": "23eecb2d",
   "metadata": {},
   "outputs": [],
   "source": [
    "final_df"
   ]
  },
  {
   "cell_type": "code",
   "execution_count": null,
   "id": "b03c0b7a",
   "metadata": {},
   "outputs": [],
   "source": [
    "file_name = search_date.replace('/', '_')\n",
    "final_df.to_csv(f'data_{file_name}.csv', index = False) # Save file"
   ]
  },
  {
   "cell_type": "code",
   "execution_count": null,
   "id": "4154efac",
   "metadata": {},
   "outputs": [],
   "source": []
  }
 ],
 "metadata": {
  "kernelspec": {
   "display_name": "Python 3",
   "language": "python",
   "name": "python3"
  },
  "language_info": {
   "codemirror_mode": {
    "name": "ipython",
    "version": 3
   },
   "file_extension": ".py",
   "mimetype": "text/x-python",
   "name": "python",
   "nbconvert_exporter": "python",
   "pygments_lexer": "ipython3",
   "version": "3.8.8"
  }
 },
 "nbformat": 4,
 "nbformat_minor": 5
}
